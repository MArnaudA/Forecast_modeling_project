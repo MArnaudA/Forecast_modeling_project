{
 "cells": [
  {
   "cell_type": "markdown",
   "id": "e40806db",
   "metadata": {},
   "source": [
    "### Importation des bibliothèques"
   ]
  },
  {
   "cell_type": "code",
   "execution_count": 2,
   "id": "80a6eebd",
   "metadata": {},
   "outputs": [],
   "source": [
    "import numpy as np\n",
    "import numpy.fft\n",
    "import pandas as pd\n",
    "import glob, os, json\n",
    "import librosa\n",
    "import librosa.display\n",
    "import IPython.display as ipd\n",
    "import matplotlib.pyplot as plt\n",
    "import seaborn as sn\n",
    "from sklearn.neural_network import MLPRegressor\n",
    "from sklearn.metrics import confusion_matrix\n",
    "\n",
    "\n",
    "import soundfile as sf\n",
    "import subprocess\n",
    "import scipy.io.wavfile as wavfile\n",
    "\n",
    "# A la fin, ne pas oublier de retirer les bibliothèques qu'on n'utilise pas"
   ]
  },
  {
   "cell_type": "markdown",
   "id": "de767a57",
   "metadata": {},
   "source": [
    "### Création df avec données et liste des fichiers audio"
   ]
  },
  {
   "cell_type": "code",
   "execution_count": 3,
   "id": "9075fc7d",
   "metadata": {
    "scrolled": true
   },
   "outputs": [],
   "source": [
    "data_directory = 'archive'\n",
    "\n",
    "json_pattern = os.path.join(data_directory, '*.json')\n",
    "json_file_list = glob.glob(json_pattern)\n",
    "\n",
    "wav_pattern = os.path.join(data_directory, '*.wav')\n",
    "wav_file_list = glob.glob(wav_pattern)\n",
    "\n",
    "dfs = []\n",
    "for file in json_file_list:\n",
    "    with open(file) as f:\n",
    "        json_data = pd.json_normalize(json.loads(f.read()))\n",
    "        json_data['file_name'] = file.rsplit(\"/\", 1)[-1]\n",
    "    dfs.append(json_data)\n",
    "df0 = pd.concat(dfs)"
   ]
  },
  {
   "cell_type": "code",
   "execution_count": 4,
   "id": "cb88ec8f",
   "metadata": {},
   "outputs": [],
   "source": [
    "df = df0"
   ]
  },
  {
   "cell_type": "code",
   "execution_count": 5,
   "id": "19199191",
   "metadata": {},
   "outputs": [],
   "source": [
    "df = df.reset_index()\n",
    "df.drop('index', inplace=True, axis=1)"
   ]
  },
  {
   "cell_type": "code",
   "execution_count": 6,
   "id": "d11f9146",
   "metadata": {},
   "outputs": [],
   "source": [
    "df = df.dropna(subset=['status'])\n",
    "df = df.dropna(subset=['age'])\n",
    "df.drop(df[df.gender == 'other'].index, inplace=True)\n",
    "\n",
    "df = df.head(1000)\n"
   ]
  },
  {
   "cell_type": "code",
   "execution_count": 7,
   "id": "3e42430b",
   "metadata": {
    "scrolled": true
   },
   "outputs": [
    {
     "name": "stderr",
     "output_type": "stream",
     "text": [
      "/home/cytech/.local/lib/python3.8/site-packages/librosa/util/decorators.py:88: UserWarning: PySoundFile failed. Trying audioread instead.\n",
      "  return f(*args, **kwargs)\n",
      "/home/cytech/.local/lib/python3.8/site-packages/librosa/util/decorators.py:88: UserWarning: PySoundFile failed. Trying audioread instead.\n",
      "  return f(*args, **kwargs)\n"
     ]
    }
   ],
   "source": [
    "Fe = 22050\n",
    "df[\"file_name\"] = df[\"file_name\"].apply(lambda row: os.path.join(data_directory, row)[:-4]+'wav')\n",
    "df[\"quantités d'énergie\"] = df[\"file_name\"].apply(lambda row: librosa.load(row)[0])\n",
    "df[\"dft\"] = df[\"quantités d'énergie\"].apply(lambda row: np.fft.fft(row, 10000))\n",
    "df[\"freq_ft\"] = df[\"dft\"].apply(lambda row: np.fft.fftfreq(len(row), 1/Fe))\n",
    "\n",
    "\n",
    "\n"
   ]
  },
  {
   "cell_type": "code",
   "execution_count": 8,
   "id": "feecfc56",
   "metadata": {},
   "outputs": [],
   "source": [
    "df = df.reset_index()\n",
    "df.drop('index', inplace=True, axis=1)"
   ]
  },
  {
   "cell_type": "code",
   "execution_count": 9,
   "id": "378990c2",
   "metadata": {},
   "outputs": [],
   "source": [
    "\n",
    "fondamentales = []\n",
    "for i in df.index:\n",
    "    f = df.iloc[i].at[\"freq_ft\"][np.where(df.iloc[i].at[\"dft\"] == max(df.iloc[i].at[\"dft\"]))[0][0]]\n",
    "    fondamentales.append(f)\n",
    "mu, sigma = np.mean(fondamentales), np.std(fondamentales)\n",
    "fondamentales = [(x-mu)/sigma for x in fondamentales]\n",
    "df[\"fondamentale\"] = fondamentales\n",
    "\n",
    "df.loc[(df.status == 'COVID-19'),'status']= 0\n",
    "df.loc[(df.status == 'symptomatic'),'status']= 0.5\n",
    "df.loc[(df.status == 'healthy'),'status']= 1\n"
   ]
  },
  {
   "cell_type": "code",
   "execution_count": 10,
   "id": "6025af44",
   "metadata": {},
   "outputs": [],
   "source": [
    "L = [float(x) for x in df[\"age\"].tolist()]\n",
    "moy, sigma = np.mean(L), np.std(L)\n",
    "ages = [(x-moy)/sigma for x in L]\n",
    "df[\"age\"] = ages"
   ]
  },
  {
   "cell_type": "code",
   "execution_count": 11,
   "id": "44ad2de3",
   "metadata": {},
   "outputs": [],
   "source": [
    "df.loc[(df.gender == 'male'),'gender']= 0.\n",
    "df.loc[(df.gender == 'female'),'gender']= 1.\n"
   ]
  },
  {
   "cell_type": "code",
   "execution_count": 12,
   "id": "8fde32be",
   "metadata": {
    "scrolled": false
   },
   "outputs": [
    {
     "name": "stdout",
     "output_type": "stream",
     "text": [
      "Dimensions MNIST_train : (1000, 54)\n"
     ]
    }
   ],
   "source": [
    "MNIST_train = df\n",
    "print(\"Dimensions MNIST_train :\", MNIST_train.shape)\n",
    "X = MNIST_train.loc[:, ['age', 'gender', 'fondamentale']]\n",
    "y = MNIST_train.loc[:, 'status'] "
   ]
  },
  {
   "cell_type": "code",
   "execution_count": 13,
   "id": "f4680769",
   "metadata": {},
   "outputs": [],
   "source": [
    "from sklearn.model_selection import train_test_split\n",
    "\n",
    "X_train, X_test, y_train, y_test = train_test_split(X, y, test_size=0.25)"
   ]
  },
  {
   "cell_type": "code",
   "execution_count": 14,
   "id": "123c4319",
   "metadata": {
    "scrolled": true
   },
   "outputs": [
    {
     "data": {
      "text/html": [
       "<div>\n",
       "<style scoped>\n",
       "    .dataframe tbody tr th:only-of-type {\n",
       "        vertical-align: middle;\n",
       "    }\n",
       "\n",
       "    .dataframe tbody tr th {\n",
       "        vertical-align: top;\n",
       "    }\n",
       "\n",
       "    .dataframe thead th {\n",
       "        text-align: right;\n",
       "    }\n",
       "</style>\n",
       "<table border=\"1\" class=\"dataframe\">\n",
       "  <thead>\n",
       "    <tr style=\"text-align: right;\">\n",
       "      <th></th>\n",
       "      <th>age</th>\n",
       "      <th>gender</th>\n",
       "      <th>fondamentale</th>\n",
       "    </tr>\n",
       "  </thead>\n",
       "  <tbody>\n",
       "    <tr>\n",
       "      <th>502</th>\n",
       "      <td>0.754624</td>\n",
       "      <td>0.0</td>\n",
       "      <td>-3.448375</td>\n",
       "    </tr>\n",
       "    <tr>\n",
       "      <th>645</th>\n",
       "      <td>-0.417817</td>\n",
       "      <td>0.0</td>\n",
       "      <td>0.351881</td>\n",
       "    </tr>\n",
       "    <tr>\n",
       "      <th>332</th>\n",
       "      <td>-0.141948</td>\n",
       "      <td>1.0</td>\n",
       "      <td>-0.332091</td>\n",
       "    </tr>\n",
       "    <tr>\n",
       "      <th>689</th>\n",
       "      <td>0.892559</td>\n",
       "      <td>0.0</td>\n",
       "      <td>-2.186992</td>\n",
       "    </tr>\n",
       "    <tr>\n",
       "      <th>139</th>\n",
       "      <td>-0.210915</td>\n",
       "      <td>0.0</td>\n",
       "      <td>0.045829</td>\n",
       "    </tr>\n",
       "    <tr>\n",
       "      <th>...</th>\n",
       "      <td>...</td>\n",
       "      <td>...</td>\n",
       "      <td>...</td>\n",
       "    </tr>\n",
       "    <tr>\n",
       "      <th>389</th>\n",
       "      <td>-0.486784</td>\n",
       "      <td>1.0</td>\n",
       "      <td>0.048307</td>\n",
       "    </tr>\n",
       "    <tr>\n",
       "      <th>119</th>\n",
       "      <td>-1.866126</td>\n",
       "      <td>0.0</td>\n",
       "      <td>0.356837</td>\n",
       "    </tr>\n",
       "    <tr>\n",
       "      <th>230</th>\n",
       "      <td>-0.762652</td>\n",
       "      <td>0.0</td>\n",
       "      <td>-0.107817</td>\n",
       "    </tr>\n",
       "    <tr>\n",
       "      <th>89</th>\n",
       "      <td>-1.107488</td>\n",
       "      <td>0.0</td>\n",
       "      <td>-0.107817</td>\n",
       "    </tr>\n",
       "    <tr>\n",
       "      <th>906</th>\n",
       "      <td>0.064953</td>\n",
       "      <td>0.0</td>\n",
       "      <td>-0.250311</td>\n",
       "    </tr>\n",
       "  </tbody>\n",
       "</table>\n",
       "<p>750 rows × 3 columns</p>\n",
       "</div>"
      ],
      "text/plain": [
       "          age gender  fondamentale\n",
       "502  0.754624    0.0     -3.448375\n",
       "645 -0.417817    0.0      0.351881\n",
       "332 -0.141948    1.0     -0.332091\n",
       "689  0.892559    0.0     -2.186992\n",
       "139 -0.210915    0.0      0.045829\n",
       "..        ...    ...           ...\n",
       "389 -0.486784    1.0      0.048307\n",
       "119 -1.866126    0.0      0.356837\n",
       "230 -0.762652    0.0     -0.107817\n",
       "89  -1.107488    0.0     -0.107817\n",
       "906  0.064953    0.0     -0.250311\n",
       "\n",
       "[750 rows x 3 columns]"
      ]
     },
     "execution_count": 14,
     "metadata": {},
     "output_type": "execute_result"
    }
   ],
   "source": [
    "X_train"
   ]
  },
  {
   "cell_type": "code",
   "execution_count": 65,
   "id": "39fe34cd",
   "metadata": {
    "scrolled": true
   },
   "outputs": [
    {
     "data": {
      "text/plain": [
       "502      1\n",
       "645    0.5\n",
       "332      1\n",
       "689      1\n",
       "139    0.5\n",
       "      ... \n",
       "389      0\n",
       "119      1\n",
       "230      1\n",
       "89       1\n",
       "906      1\n",
       "Name: status, Length: 750, dtype: object"
      ]
     },
     "execution_count": 65,
     "metadata": {},
     "output_type": "execute_result"
    }
   ],
   "source": [
    "y_train"
   ]
  },
  {
   "cell_type": "code",
   "execution_count": 80,
   "id": "4f1f836e",
   "metadata": {
    "scrolled": false
   },
   "outputs": [
    {
     "name": "stdout",
     "output_type": "stream",
     "text": [
      "Iteration 1, loss = 0.17403733\n",
      "Iteration 2, loss = 0.15058901\n",
      "Iteration 3, loss = 0.12122181\n",
      "Iteration 4, loss = 0.09377920\n",
      "Iteration 5, loss = 0.07236313\n",
      "Iteration 6, loss = 0.05818907\n",
      "Iteration 7, loss = 0.04915516\n",
      "Iteration 8, loss = 0.04485966\n",
      "Iteration 9, loss = 0.04284355\n",
      "Iteration 10, loss = 0.04217836\n",
      "Iteration 11, loss = 0.04212306\n",
      "Iteration 12, loss = 0.04225094\n",
      "Iteration 13, loss = 0.04231855\n",
      "Iteration 14, loss = 0.04237034\n",
      "Iteration 15, loss = 0.04234359\n",
      "Iteration 16, loss = 0.04228582\n",
      "Iteration 17, loss = 0.04221473\n",
      "Iteration 18, loss = 0.04215943\n",
      "Iteration 19, loss = 0.04213715\n",
      "Iteration 20, loss = 0.04208811\n",
      "Iteration 21, loss = 0.04207387\n",
      "Training loss did not improve more than tol=0.000100 for 10 consecutive epochs. Stopping.\n"
     ]
    },
    {
     "data": {
      "text/html": [
       "<style>#sk-container-id-3 {color: black;background-color: white;}#sk-container-id-3 pre{padding: 0;}#sk-container-id-3 div.sk-toggleable {background-color: white;}#sk-container-id-3 label.sk-toggleable__label {cursor: pointer;display: block;width: 100%;margin-bottom: 0;padding: 0.3em;box-sizing: border-box;text-align: center;}#sk-container-id-3 label.sk-toggleable__label-arrow:before {content: \"▸\";float: left;margin-right: 0.25em;color: #696969;}#sk-container-id-3 label.sk-toggleable__label-arrow:hover:before {color: black;}#sk-container-id-3 div.sk-estimator:hover label.sk-toggleable__label-arrow:before {color: black;}#sk-container-id-3 div.sk-toggleable__content {max-height: 0;max-width: 0;overflow: hidden;text-align: left;background-color: #f0f8ff;}#sk-container-id-3 div.sk-toggleable__content pre {margin: 0.2em;color: black;border-radius: 0.25em;background-color: #f0f8ff;}#sk-container-id-3 input.sk-toggleable__control:checked~div.sk-toggleable__content {max-height: 200px;max-width: 100%;overflow: auto;}#sk-container-id-3 input.sk-toggleable__control:checked~label.sk-toggleable__label-arrow:before {content: \"▾\";}#sk-container-id-3 div.sk-estimator input.sk-toggleable__control:checked~label.sk-toggleable__label {background-color: #d4ebff;}#sk-container-id-3 div.sk-label input.sk-toggleable__control:checked~label.sk-toggleable__label {background-color: #d4ebff;}#sk-container-id-3 input.sk-hidden--visually {border: 0;clip: rect(1px 1px 1px 1px);clip: rect(1px, 1px, 1px, 1px);height: 1px;margin: -1px;overflow: hidden;padding: 0;position: absolute;width: 1px;}#sk-container-id-3 div.sk-estimator {font-family: monospace;background-color: #f0f8ff;border: 1px dotted black;border-radius: 0.25em;box-sizing: border-box;margin-bottom: 0.5em;}#sk-container-id-3 div.sk-estimator:hover {background-color: #d4ebff;}#sk-container-id-3 div.sk-parallel-item::after {content: \"\";width: 100%;border-bottom: 1px solid gray;flex-grow: 1;}#sk-container-id-3 div.sk-label:hover label.sk-toggleable__label {background-color: #d4ebff;}#sk-container-id-3 div.sk-serial::before {content: \"\";position: absolute;border-left: 1px solid gray;box-sizing: border-box;top: 0;bottom: 0;left: 50%;z-index: 0;}#sk-container-id-3 div.sk-serial {display: flex;flex-direction: column;align-items: center;background-color: white;padding-right: 0.2em;padding-left: 0.2em;position: relative;}#sk-container-id-3 div.sk-item {position: relative;z-index: 1;}#sk-container-id-3 div.sk-parallel {display: flex;align-items: stretch;justify-content: center;background-color: white;position: relative;}#sk-container-id-3 div.sk-item::before, #sk-container-id-3 div.sk-parallel-item::before {content: \"\";position: absolute;border-left: 1px solid gray;box-sizing: border-box;top: 0;bottom: 0;left: 50%;z-index: -1;}#sk-container-id-3 div.sk-parallel-item {display: flex;flex-direction: column;z-index: 1;position: relative;background-color: white;}#sk-container-id-3 div.sk-parallel-item:first-child::after {align-self: flex-end;width: 50%;}#sk-container-id-3 div.sk-parallel-item:last-child::after {align-self: flex-start;width: 50%;}#sk-container-id-3 div.sk-parallel-item:only-child::after {width: 0;}#sk-container-id-3 div.sk-dashed-wrapped {border: 1px dashed gray;margin: 0 0.4em 0.5em 0.4em;box-sizing: border-box;padding-bottom: 0.4em;background-color: white;}#sk-container-id-3 div.sk-label label {font-family: monospace;font-weight: bold;display: inline-block;line-height: 1.2em;}#sk-container-id-3 div.sk-label-container {text-align: center;}#sk-container-id-3 div.sk-container {/* jupyter's `normalize.less` sets `[hidden] { display: none; }` but bootstrap.min.css set `[hidden] { display: none !important; }` so we also need the `!important` here to be able to override the default hidden behavior on the sphinx rendered scikit-learn.org. See: https://github.com/scikit-learn/scikit-learn/issues/21755 */display: inline-block !important;position: relative;}#sk-container-id-3 div.sk-text-repr-fallback {display: none;}</style><div id=\"sk-container-id-3\" class=\"sk-top-container\"><div class=\"sk-text-repr-fallback\"><pre>MLPRegressor(activation=&#x27;logistic&#x27;, hidden_layer_sizes=20, solver=&#x27;sgd&#x27;,\n",
       "             verbose=True)</pre><b>In a Jupyter environment, please rerun this cell to show the HTML representation or trust the notebook. <br />On GitHub, the HTML representation is unable to render, please try loading this page with nbviewer.org.</b></div><div class=\"sk-container\" hidden><div class=\"sk-item\"><div class=\"sk-estimator sk-toggleable\"><input class=\"sk-toggleable__control sk-hidden--visually\" id=\"sk-estimator-id-3\" type=\"checkbox\" checked><label for=\"sk-estimator-id-3\" class=\"sk-toggleable__label sk-toggleable__label-arrow\">MLPRegressor</label><div class=\"sk-toggleable__content\"><pre>MLPRegressor(activation=&#x27;logistic&#x27;, hidden_layer_sizes=20, solver=&#x27;sgd&#x27;,\n",
       "             verbose=True)</pre></div></div></div></div></div>"
      ],
      "text/plain": [
       "MLPRegressor(activation='logistic', hidden_layer_sizes=20, solver='sgd',\n",
       "             verbose=True)"
      ]
     },
     "execution_count": 80,
     "metadata": {},
     "output_type": "execute_result"
    }
   ],
   "source": [
    "model = MLPRegressor(hidden_layer_sizes = 20, activation = \"logistic\", solver = \"sgd\", verbose = True)\n",
    "model.fit(X_train, y_train)"
   ]
  },
  {
   "cell_type": "code",
   "execution_count": 81,
   "id": "1cef72b4",
   "metadata": {},
   "outputs": [
    {
     "data": {
      "text/plain": [
       "502      1\n",
       "645    0.5\n",
       "332      1\n",
       "689      1\n",
       "139    0.5\n",
       "      ... \n",
       "389      0\n",
       "119      1\n",
       "230      1\n",
       "89       1\n",
       "906      1\n",
       "Name: status, Length: 750, dtype: object"
      ]
     },
     "execution_count": 81,
     "metadata": {},
     "output_type": "execute_result"
    }
   ],
   "source": [
    "y_train"
   ]
  },
  {
   "cell_type": "code",
   "execution_count": 82,
   "id": "6e5bb437",
   "metadata": {},
   "outputs": [
    {
     "data": {
      "text/plain": [
       "{0.0, 1.0}"
      ]
     },
     "execution_count": 82,
     "metadata": {},
     "output_type": "execute_result"
    }
   ],
   "source": [
    "set(X_train['gender'].tolist())"
   ]
  },
  {
   "cell_type": "code",
   "execution_count": 83,
   "id": "fe183f17",
   "metadata": {},
   "outputs": [],
   "source": [
    "y_predicted = model.predict(X_test)"
   ]
  },
  {
   "cell_type": "code",
   "execution_count": 84,
   "id": "54fad2ae",
   "metadata": {},
   "outputs": [
    {
     "data": {
      "text/plain": [
       "0.8235463254077046"
      ]
     },
     "execution_count": 84,
     "metadata": {},
     "output_type": "execute_result"
    }
   ],
   "source": [
    "min(y_predicted)"
   ]
  },
  {
   "cell_type": "code",
   "execution_count": 85,
   "id": "40f2fd01",
   "metadata": {},
   "outputs": [
    {
     "data": {
      "text/plain": [
       "0.8748161866812587"
      ]
     },
     "execution_count": 85,
     "metadata": {},
     "output_type": "execute_result"
    }
   ],
   "source": [
    "max(y_predicted)"
   ]
  },
  {
   "cell_type": "code",
   "execution_count": 86,
   "id": "7ad1cb93",
   "metadata": {},
   "outputs": [
    {
     "data": {
      "text/plain": [
       "array([0.85307491, 0.86191624, 0.86146267, 0.85520504, 0.85472032,\n",
       "       0.85217657, 0.86139324, 0.85532454, 0.86045817, 0.86078656,\n",
       "       0.85187683, 0.85528881, 0.85633487, 0.85608673, 0.85985383,\n",
       "       0.85239727, 0.85562241, 0.82354633, 0.8562583 , 0.85570751,\n",
       "       0.85428656, 0.85510907, 0.85108167, 0.84287858, 0.85347435,\n",
       "       0.86246841, 0.85446571, 0.85853017, 0.85437501, 0.85448499,\n",
       "       0.84988696, 0.86073637, 0.85869369, 0.8555171 , 0.86089283,\n",
       "       0.86072443, 0.85350268, 0.86313065, 0.86576182, 0.85963576,\n",
       "       0.85483906, 0.86162017, 0.85450293, 0.86064552, 0.85372917,\n",
       "       0.8539569 , 0.85136996, 0.85502289, 0.85395066, 0.85343316,\n",
       "       0.86189446, 0.86237385, 0.85248467, 0.85387183, 0.86041096,\n",
       "       0.85431838, 0.86734479, 0.8553995 , 0.85359347, 0.85339514,\n",
       "       0.85952993, 0.85637892, 0.85597653, 0.86186041, 0.83831594,\n",
       "       0.85043405, 0.85379457, 0.86264629, 0.8684155 , 0.82633503,\n",
       "       0.8533893 , 0.84952886, 0.86110658, 0.8540988 , 0.85697839,\n",
       "       0.85610617, 0.83255355, 0.86070051, 0.86172858, 0.86237761,\n",
       "       0.85569579, 0.83233295, 0.85520504, 0.85692516, 0.85474546,\n",
       "       0.86233656, 0.86334992, 0.85021677, 0.85566599, 0.85273565,\n",
       "       0.85070621, 0.86388847, 0.85321798, 0.83200573, 0.85761101,\n",
       "       0.85234561, 0.86319076, 0.86166976, 0.85520777, 0.85355103,\n",
       "       0.85713952, 0.85243228, 0.860727  , 0.86246688, 0.8540453 ,\n",
       "       0.86300726, 0.85394122, 0.85438497, 0.85800799, 0.85251603,\n",
       "       0.85369597, 0.85594044, 0.86037953, 0.85124776, 0.85767168,\n",
       "       0.85168439, 0.85473616, 0.84703552, 0.86435925, 0.86190327,\n",
       "       0.85537433, 0.85447291, 0.85663563, 0.85262294, 0.85506793,\n",
       "       0.85268531, 0.85570133, 0.85586078, 0.85366156, 0.85905946,\n",
       "       0.85220439, 0.86417815, 0.87481619, 0.84305476, 0.85422544,\n",
       "       0.86278148, 0.85517289, 0.84564289, 0.85183666, 0.86141993,\n",
       "       0.853173  , 0.87297612, 0.85379128, 0.85003354, 0.86210204,\n",
       "       0.85232922, 0.85972785, 0.85236433, 0.85775076, 0.860062  ,\n",
       "       0.85363484, 0.85854339, 0.86069842, 0.82722503, 0.85523736,\n",
       "       0.86148007, 0.85361359, 0.85978776, 0.85475021, 0.85416197,\n",
       "       0.8628582 , 0.85548495, 0.85378693, 0.85468962, 0.85674514,\n",
       "       0.85199704, 0.85417697, 0.85334146, 0.85426853, 0.85419105,\n",
       "       0.83525565, 0.84991195, 0.85485174, 0.85614278, 0.86034257,\n",
       "       0.85710708, 0.85290231, 0.86082529, 0.86269069, 0.86371815,\n",
       "       0.86948388, 0.85580993, 0.86203202, 0.85342968, 0.85582411,\n",
       "       0.85075221, 0.83864685, 0.85579651, 0.85771242, 0.85315828,\n",
       "       0.85859983, 0.86439736, 0.86314708, 0.85576867, 0.85502988,\n",
       "       0.85285908, 0.85869085, 0.85462377, 0.86293777, 0.86411011,\n",
       "       0.86331504, 0.85415385, 0.85903786, 0.85670326, 0.85580777,\n",
       "       0.84862889, 0.85454198, 0.8590144 , 0.85379128, 0.85263372,\n",
       "       0.84839073, 0.85185229, 0.85202615, 0.85994396, 0.85352359,\n",
       "       0.85458376, 0.85259747, 0.85272592, 0.854329  , 0.86685813,\n",
       "       0.86017692, 0.8529687 , 0.85408506, 0.85011579, 0.85569158,\n",
       "       0.85570247, 0.85369712, 0.85780277, 0.85658372, 0.85985383,\n",
       "       0.857447  , 0.85905866, 0.85353513, 0.85383757, 0.85707188,\n",
       "       0.83416899, 0.85351475, 0.85455783, 0.85230193, 0.85932592,\n",
       "       0.85422307, 0.83307234, 0.85557089, 0.85341845, 0.85708801,\n",
       "       0.83268545, 0.86338567, 0.86182766, 0.86292224, 0.86293291])"
      ]
     },
     "execution_count": 86,
     "metadata": {},
     "output_type": "execute_result"
    }
   ],
   "source": [
    "y_predicted"
   ]
  },
  {
   "cell_type": "code",
   "execution_count": 71,
   "id": "4e919f2d",
   "metadata": {},
   "outputs": [],
   "source": [
    "for i in range(len(y_predicted)):\n",
    "    if y_predicted[i] <= 0.25:\n",
    "        y = 0\n",
    "    elif y_predicted[i] >= 0.75:\n",
    "        y = 1\n",
    "    else:\n",
    "        y = 0.5\n",
    "    y_predicted[i] = y\n"
   ]
  },
  {
   "cell_type": "code",
   "execution_count": 72,
   "id": "32ac8f2f",
   "metadata": {
    "scrolled": true
   },
   "outputs": [
    {
     "ename": "ValueError",
     "evalue": "Classification metrics can't handle a mix of unknown and binary targets",
     "output_type": "error",
     "traceback": [
      "\u001b[0;31m---------------------------------------------------------------------------\u001b[0m",
      "\u001b[0;31mValueError\u001b[0m                                Traceback (most recent call last)",
      "\u001b[0;32m<ipython-input-72-be299940b16c>\u001b[0m in \u001b[0;36m<module>\u001b[0;34m\u001b[0m\n\u001b[0;32m----> 1\u001b[0;31m \u001b[0mcm\u001b[0m \u001b[0;34m=\u001b[0m \u001b[0mconfusion_matrix\u001b[0m\u001b[0;34m(\u001b[0m\u001b[0my_test\u001b[0m\u001b[0;34m,\u001b[0m \u001b[0my_predicted\u001b[0m\u001b[0;34m)\u001b[0m\u001b[0;34m\u001b[0m\u001b[0;34m\u001b[0m\u001b[0m\n\u001b[0m\u001b[1;32m      2\u001b[0m \u001b[0mprint\u001b[0m\u001b[0;34m(\u001b[0m\u001b[0mcm\u001b[0m\u001b[0;34m)\u001b[0m\u001b[0;34m\u001b[0m\u001b[0;34m\u001b[0m\u001b[0m\n",
      "\u001b[0;32m~/.local/lib/python3.8/site-packages/sklearn/metrics/_classification.py\u001b[0m in \u001b[0;36mconfusion_matrix\u001b[0;34m(y_true, y_pred, labels, sample_weight, normalize)\u001b[0m\n\u001b[1;32m    305\u001b[0m     \u001b[0;34m(\u001b[0m\u001b[0;36m0\u001b[0m\u001b[0;34m,\u001b[0m \u001b[0;36m2\u001b[0m\u001b[0;34m,\u001b[0m \u001b[0;36m1\u001b[0m\u001b[0;34m,\u001b[0m \u001b[0;36m1\u001b[0m\u001b[0;34m)\u001b[0m\u001b[0;34m\u001b[0m\u001b[0;34m\u001b[0m\u001b[0m\n\u001b[1;32m    306\u001b[0m     \"\"\"\n\u001b[0;32m--> 307\u001b[0;31m     \u001b[0my_type\u001b[0m\u001b[0;34m,\u001b[0m \u001b[0my_true\u001b[0m\u001b[0;34m,\u001b[0m \u001b[0my_pred\u001b[0m \u001b[0;34m=\u001b[0m \u001b[0m_check_targets\u001b[0m\u001b[0;34m(\u001b[0m\u001b[0my_true\u001b[0m\u001b[0;34m,\u001b[0m \u001b[0my_pred\u001b[0m\u001b[0;34m)\u001b[0m\u001b[0;34m\u001b[0m\u001b[0;34m\u001b[0m\u001b[0m\n\u001b[0m\u001b[1;32m    308\u001b[0m     \u001b[0;32mif\u001b[0m \u001b[0my_type\u001b[0m \u001b[0;32mnot\u001b[0m \u001b[0;32min\u001b[0m \u001b[0;34m(\u001b[0m\u001b[0;34m\"binary\"\u001b[0m\u001b[0;34m,\u001b[0m \u001b[0;34m\"multiclass\"\u001b[0m\u001b[0;34m)\u001b[0m\u001b[0;34m:\u001b[0m\u001b[0;34m\u001b[0m\u001b[0;34m\u001b[0m\u001b[0m\n\u001b[1;32m    309\u001b[0m         \u001b[0;32mraise\u001b[0m \u001b[0mValueError\u001b[0m\u001b[0;34m(\u001b[0m\u001b[0;34m\"%s is not supported\"\u001b[0m \u001b[0;34m%\u001b[0m \u001b[0my_type\u001b[0m\u001b[0;34m)\u001b[0m\u001b[0;34m\u001b[0m\u001b[0;34m\u001b[0m\u001b[0m\n",
      "\u001b[0;32m~/.local/lib/python3.8/site-packages/sklearn/metrics/_classification.py\u001b[0m in \u001b[0;36m_check_targets\u001b[0;34m(y_true, y_pred)\u001b[0m\n\u001b[1;32m     91\u001b[0m \u001b[0;34m\u001b[0m\u001b[0m\n\u001b[1;32m     92\u001b[0m     \u001b[0;32mif\u001b[0m \u001b[0mlen\u001b[0m\u001b[0;34m(\u001b[0m\u001b[0my_type\u001b[0m\u001b[0;34m)\u001b[0m \u001b[0;34m>\u001b[0m \u001b[0;36m1\u001b[0m\u001b[0;34m:\u001b[0m\u001b[0;34m\u001b[0m\u001b[0;34m\u001b[0m\u001b[0m\n\u001b[0;32m---> 93\u001b[0;31m         raise ValueError(\n\u001b[0m\u001b[1;32m     94\u001b[0m             \"Classification metrics can't handle a mix of {0} and {1} targets\".format(\n\u001b[1;32m     95\u001b[0m                 \u001b[0mtype_true\u001b[0m\u001b[0;34m,\u001b[0m \u001b[0mtype_pred\u001b[0m\u001b[0;34m\u001b[0m\u001b[0;34m\u001b[0m\u001b[0m\n",
      "\u001b[0;31mValueError\u001b[0m: Classification metrics can't handle a mix of unknown and binary targets"
     ]
    }
   ],
   "source": [
    "cm = confusion_matrix(y_test, y_predicted)\n",
    "print(cm)"
   ]
  },
  {
   "cell_type": "code",
   "execution_count": 73,
   "id": "39a0c975",
   "metadata": {
    "scrolled": false
   },
   "outputs": [
    {
     "data": {
      "text/plain": [
       "array([1., 1., 1., 1., 1., 1., 1., 1., 1., 1., 1., 1., 1., 1., 1., 1., 1.,\n",
       "       1., 1., 1., 1., 1., 1., 1., 1., 1., 1., 1., 1., 1., 1., 1., 1., 1.,\n",
       "       1., 1., 1., 1., 1., 1., 1., 1., 1., 1., 1., 1., 1., 1., 1., 1., 1.,\n",
       "       1., 1., 1., 1., 1., 1., 1., 1., 1., 1., 1., 1., 1., 1., 1., 1., 1.,\n",
       "       1., 1., 1., 1., 1., 1., 1., 1., 1., 1., 1., 1., 1., 1., 1., 1., 1.,\n",
       "       1., 1., 1., 1., 1., 1., 1., 1., 1., 1., 1., 1., 1., 1., 1., 1., 1.,\n",
       "       1., 1., 1., 1., 1., 1., 1., 1., 1., 1., 1., 1., 1., 1., 1., 1., 1.,\n",
       "       1., 1., 1., 1., 1., 1., 1., 1., 1., 1., 1., 1., 1., 1., 1., 1., 1.,\n",
       "       1., 1., 1., 1., 1., 1., 1., 1., 1., 1., 1., 1., 1., 1., 1., 1., 1.,\n",
       "       1., 1., 1., 1., 1., 1., 1., 1., 1., 1., 1., 1., 1., 1., 1., 1., 1.,\n",
       "       1., 1., 1., 1., 1., 1., 1., 1., 1., 1., 1., 1., 1., 1., 1., 1., 1.,\n",
       "       1., 1., 1., 1., 1., 1., 1., 1., 1., 1., 1., 1., 1., 1., 1., 1., 1.,\n",
       "       1., 1., 1., 1., 1., 1., 1., 1., 1., 1., 1., 1., 1., 1., 1., 1., 1.,\n",
       "       1., 1., 1., 1., 1., 1., 1., 1., 1., 1., 1., 1., 1., 1., 1., 1., 1.,\n",
       "       1., 1., 1., 1., 1., 1., 1., 1., 1., 1., 1., 1.])"
      ]
     },
     "execution_count": 73,
     "metadata": {},
     "output_type": "execute_result"
    }
   ],
   "source": [
    "y_predicted"
   ]
  },
  {
   "cell_type": "code",
   "execution_count": 58,
   "id": "0a81b0e8",
   "metadata": {
    "scrolled": false
   },
   "outputs": [
    {
     "name": "stdout",
     "output_type": "stream",
     "text": [
      "1.0 1\n",
      "1.0 0.5\n",
      "1.0 0.5\n",
      "1.0 1\n",
      "1.0 1\n",
      "1.0 1\n",
      "1.0 0.5\n",
      "1.0 1\n",
      "1.0 1\n",
      "1.0 1\n",
      "1.0 1\n",
      "1.0 0.5\n",
      "1.0 1\n",
      "1.0 1\n",
      "1.0 0.5\n",
      "1.0 1\n",
      "1.0 1\n",
      "1.0 1\n",
      "1.0 1\n",
      "1.0 1\n",
      "1.0 1\n",
      "1.0 1\n",
      "1.0 1\n",
      "1.0 1\n",
      "1.0 1\n",
      "1.0 0.5\n",
      "1.0 0\n",
      "1.0 1\n",
      "1.0 1\n",
      "1.0 1\n",
      "1.0 1\n",
      "1.0 1\n",
      "1.0 1\n",
      "1.0 1\n",
      "1.0 0\n",
      "1.0 0.5\n",
      "1.0 1\n",
      "1.0 1\n",
      "1.0 0\n",
      "1.0 1\n",
      "1.0 1\n",
      "1.0 1\n",
      "1.0 1\n",
      "1.0 0\n",
      "1.0 1\n",
      "1.0 1\n",
      "1.0 1\n",
      "1.0 1\n",
      "1.0 0.5\n",
      "1.0 1\n",
      "1.0 1\n",
      "1.0 0\n",
      "1.0 1\n",
      "1.0 0\n",
      "1.0 1\n",
      "1.0 1\n",
      "1.0 0.5\n",
      "1.0 1\n",
      "1.0 1\n",
      "1.0 1\n",
      "1.0 1\n",
      "1.0 1\n",
      "1.0 1\n",
      "1.0 1\n",
      "1.0 0.5\n",
      "1.0 0.5\n",
      "1.0 1\n",
      "1.0 1\n",
      "1.0 1\n",
      "1.0 1\n",
      "1.0 1\n",
      "1.0 1\n",
      "1.0 1\n",
      "1.0 1\n",
      "1.0 1\n",
      "1.0 1\n",
      "1.0 0.5\n",
      "1.0 1\n",
      "1.0 1\n",
      "1.0 1\n",
      "1.0 0.5\n",
      "1.0 1\n",
      "1.0 1\n",
      "1.0 1\n",
      "1.0 1\n",
      "1.0 1\n",
      "1.0 0.5\n",
      "1.0 1\n",
      "1.0 1\n",
      "1.0 0.5\n",
      "1.0 1\n",
      "1.0 0.5\n",
      "1.0 1\n",
      "1.0 1\n",
      "1.0 1\n",
      "1.0 1\n",
      "1.0 1\n",
      "1.0 1\n",
      "1.0 1\n",
      "1.0 1\n"
     ]
    }
   ],
   "source": [
    "for i in range(100):\n",
    "    print(y_predicted[i], y_test.iloc[i])"
   ]
  },
  {
   "cell_type": "code",
   "execution_count": 74,
   "id": "87824842",
   "metadata": {},
   "outputs": [
    {
     "data": {
      "text/plain": [
       "648      1\n",
       "676    0.5\n",
       "854    0.5\n",
       "729      1\n",
       "887      1\n",
       "      ... \n",
       "331      1\n",
       "949      1\n",
       "890      1\n",
       "7        1\n",
       "786      1\n",
       "Name: status, Length: 250, dtype: object"
      ]
     },
     "execution_count": 74,
     "metadata": {},
     "output_type": "execute_result"
    }
   ],
   "source": [
    "y_test"
   ]
  },
  {
   "cell_type": "code",
   "execution_count": 36,
   "id": "8c65f0e3",
   "metadata": {},
   "outputs": [
    {
     "data": {
      "text/plain": [
       "1"
      ]
     },
     "execution_count": 36,
     "metadata": {},
     "output_type": "execute_result"
    }
   ],
   "source": [
    "y_test.iloc[0]"
   ]
  },
  {
   "cell_type": "code",
   "execution_count": null,
   "id": "46613577",
   "metadata": {},
   "outputs": [],
   "source": []
  }
 ],
 "metadata": {
  "kernelspec": {
   "display_name": "Python 3",
   "language": "python",
   "name": "python3"
  },
  "language_info": {
   "codemirror_mode": {
    "name": "ipython",
    "version": 3
   },
   "file_extension": ".py",
   "mimetype": "text/x-python",
   "name": "python",
   "nbconvert_exporter": "python",
   "pygments_lexer": "ipython3",
   "version": "3.8.10"
  },
  "vscode": {
   "interpreter": {
    "hash": "f92b2924b84ff19c1c3dc485f7644d4486f64738191026bf8e6de303969141b5"
   }
  }
 },
 "nbformat": 4,
 "nbformat_minor": 5
}
